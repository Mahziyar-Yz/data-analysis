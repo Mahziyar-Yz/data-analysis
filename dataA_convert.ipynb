{
  "nbformat": 4,
  "nbformat_minor": 0,
  "metadata": {
    "colab": {
      "provenance": [],
      "authorship_tag": "ABX9TyOFJmeKtq+stFPnqndHTD/Y",
      "include_colab_link": true
    },
    "kernelspec": {
      "name": "python3",
      "display_name": "Python 3"
    },
    "language_info": {
      "name": "python"
    }
  },
  "cells": [
    {
      "cell_type": "markdown",
      "metadata": {
        "id": "view-in-github",
        "colab_type": "text"
      },
      "source": [
        "<a href=\"https://colab.research.google.com/github/Mahziyar-Yz/data-analysis/blob/main/dataA_convert.ipynb\" target=\"_parent\"><img src=\"https://colab.research.google.com/assets/colab-badge.svg\" alt=\"Open In Colab\"/></a>"
      ]
    },
    {
      "cell_type": "code",
      "execution_count": 1,
      "metadata": {
        "colab": {
          "base_uri": "https://localhost:8080/"
        },
        "id": "5FUM_sC6lkuK",
        "outputId": "549dc7df-3123-40bf-ec3d-5e941e0c150a"
      },
      "outputs": [
        {
          "output_type": "stream",
          "name": "stdout",
          "text": [
            "         day  product  count  price   sex\n",
            "0   saturday   mobile    1.0    100  girl\n",
            "1     sunday   mobile    NaN    150   boy\n",
            "2     monday   laptop    4.0    500   boy\n",
            "3    Tuesday  speaker    3.0     50   boy\n",
            "4  Wednesday   laptop    5.0    700  girl\n",
            "****************************************************************************************************\n",
            "         day  product  count  price  sex\n",
            "0   saturday   mobile    1.0    100    0\n",
            "1     sunday   mobile    NaN    150    1\n",
            "2     monday   laptop    4.0    500    1\n",
            "3    Tuesday  speaker    3.0     50    1\n",
            "4  Wednesday   laptop    5.0    700    0\n"
          ]
        }
      ],
      "source": [
        "# Convert str to zero and one with lambda\n",
        "import pandas as pd\n",
        "\n",
        "df=pd.read_csv(\"/content/Book1.csv\")\n",
        "print(df)\n",
        "print(\"*\"*100)\n",
        "df[\"sex\"]=df[\"sex\"].apply(lambda b : 0 if b==\"girl\" else 1)\n",
        "print(df)\n"
      ]
    }
  ]
}